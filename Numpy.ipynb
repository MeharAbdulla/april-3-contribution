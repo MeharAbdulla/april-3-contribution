{
 "cells": [
  {
   "cell_type": "code",
   "execution_count": 3,
   "id": "8ad561dc-980f-47a7-8ecf-c1fe477a8c3a",
   "metadata": {},
   "outputs": [],
   "source": [
    "import numpy as np"
   ]
  },
  {
   "cell_type": "code",
   "execution_count": 16,
   "id": "5de9078d-33f4-458b-b169-b8be8ea0f74b",
   "metadata": {},
   "outputs": [],
   "source": [
    "data=np.linspace(1,20,30)\n",
    "data=data.reshape(15,2)"
   ]
  },
  {
   "cell_type": "code",
   "execution_count": 17,
   "id": "aedce3e7-7ab0-4f3c-8d72-889c31f7a6e5",
   "metadata": {},
   "outputs": [
    {
     "data": {
      "text/plain": [
       "array([[ 1.        ,  1.65517241],\n",
       "       [ 2.31034483,  2.96551724],\n",
       "       [ 3.62068966,  4.27586207],\n",
       "       [ 4.93103448,  5.5862069 ],\n",
       "       [ 6.24137931,  6.89655172],\n",
       "       [ 7.55172414,  8.20689655],\n",
       "       [ 8.86206897,  9.51724138],\n",
       "       [10.17241379, 10.82758621],\n",
       "       [11.48275862, 12.13793103],\n",
       "       [12.79310345, 13.44827586],\n",
       "       [14.10344828, 14.75862069],\n",
       "       [15.4137931 , 16.06896552],\n",
       "       [16.72413793, 17.37931034],\n",
       "       [18.03448276, 18.68965517],\n",
       "       [19.34482759, 20.        ]])"
      ]
     },
     "execution_count": 17,
     "metadata": {},
     "output_type": "execute_result"
    }
   ],
   "source": [
    "data"
   ]
  },
  {
   "cell_type": "code",
   "execution_count": 19,
   "id": "fa260e05-7d1e-4890-9fd3-97428675a2b7",
   "metadata": {},
   "outputs": [],
   "source": [
    "theta1=0.05\n",
    "theta0=10"
   ]
  },
  {
   "cell_type": "code",
   "execution_count": null,
   "id": "2e09b31a-0225-441c-8030-cfca117360f7",
   "metadata": {},
   "outputs": [],
   "source": [
    "h(x)="
   ]
  }
 ],
 "metadata": {
  "kernelspec": {
   "display_name": "Python 3 (ipykernel)",
   "language": "python",
   "name": "python3"
  },
  "language_info": {
   "codemirror_mode": {
    "name": "ipython",
    "version": 3
   },
   "file_extension": ".py",
   "mimetype": "text/x-python",
   "name": "python",
   "nbconvert_exporter": "python",
   "pygments_lexer": "ipython3",
   "version": "3.12.4"
  }
 },
 "nbformat": 4,
 "nbformat_minor": 5
}
